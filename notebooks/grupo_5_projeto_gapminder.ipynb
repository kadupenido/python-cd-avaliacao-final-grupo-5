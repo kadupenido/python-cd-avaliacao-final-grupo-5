{
 "cells": [
  {
   "cell_type": "markdown",
   "id": "6b759b3c",
   "metadata": {},
   "source": [
    "# Análise do Desenvolvimento Humano e Econômico Global\n",
    "\n",
    "**Dataset:** \n",
    "- Gapminder (gapminder_full.cvs)\n",
    "- Emissão de Co2 (co-emissions-per-capita.csv)\n",
    "\n",
    "**Autores:**\n",
    "- Gabriel Moscatel Fevrier \n",
    "- Carlos Eduardo Campos Penido\n",
    "- Marcelo Rodrigues Ribeiro\n",
    "- Ana Maria Moreira\n",
    "\n",
    "---\n",
    "\n",
    "## Introdução\n",
    "\n",
    "Este notebook apresenta uma análise exploratória e interpretativa sobre o desenvolvimento humano e econômico global, com base no dataset Gapminder. \n",
    "\n",
    "O objetivo é investigar padrões temporais e espaciais das variáveis **expectativa de vida, PIB per capita e população**, considerando a distribuição por continentes e por país ao longo do período de 1952 a 2007. Além disso realizar uma corelação entre a emissão de co2.\n",
    "\n",
    "As etapas incluem coleta, limpeza, visualizações, funções reutilizáveis, interpretações críticas e síntese de insights.\n",
    "\n",
    "---"
   ]
  },
  {
   "cell_type": "markdown",
   "id": "78d991cd",
   "metadata": {},
   "source": [
    "## 1. Coleta e carregamento dos dados\n",
    "\n",
    "Carregamento do arquivo `gapminder_full.csv`, `co-emissions-per-capita.csv` e uma visão geral dos dados e tipos de dados."
   ]
  },
  {
   "cell_type": "code",
   "execution_count": null,
   "id": "6e1a141a",
   "metadata": {},
   "outputs": [],
   "source": [
    "# Carregamento das bibliotecas\n",
    "import pandas as pd\n",
    "\n",
    "# Carregamento do dataset bruto\n",
    "ds_bruto = pd.read_csv('../datasets/gapminder_full.csv')\n",
    "ds_bruto_co2 = pd.read_csv('../datasets/co-emissions-per-capita.csv')\n",
    "\n",
    "# Exibição das primeiras linhas do dataset\n",
    "display(ds_bruto.head())\n",
    "display(ds_bruto_co2.head())\n",
    "\n",
    "# Exibição das informações do dataset\n",
    "display(ds_bruto.info())\n",
    "display(ds_bruto_co2.info())"
   ]
  },
  {
   "cell_type": "markdown",
   "id": "34ec456e",
   "metadata": {},
   "source": [
    "## 2. Limpeza de dados\n",
    "\n",
    "Remoção de valores nulos e duplicados\n",
    "\n",
    "Unificação dos dataframes\n"
   ]
  },
  {
   "cell_type": "code",
   "execution_count": null,
   "id": "0a85bef2",
   "metadata": {},
   "outputs": [],
   "source": [
    "# Limpeza do dataset (remoção de valores nulos e duplicados)\n",
    "ds_limpo = ds_bruto.dropna().drop_duplicates().copy()\n",
    "ds_limpo_co2 = ds_bruto_co2.dropna().drop_duplicates().copy()\n",
    "\n",
    "# Padronizar nomes de colunas\n",
    "ds_limpo_co2 = ds_limpo_co2.rename(columns={\n",
    "    'Entity': 'country',\n",
    "    'Year': 'year',\n",
    "    'Annual CO₂ emissions (per capita)': 'co2_per_capita'\n",
    "})\n",
    "\n",
    "# Remover países ou anos ausentes\n",
    "ds_limpo_co2 = ds_limpo_co2.dropna(subset=['country', 'year', 'co2_per_capita'])\n",
    "\n",
    "# Juntar com o dataframe principal do Gapminder\n",
    "ds_limpo = ds_limpo.merge(ds_limpo_co2[['country', 'year', 'co2_per_capita']], on=['country', 'year'], how='inner')\n",
    "\n",
    "# Exibição das primeiras linhas do dataset limpo e unido\n",
    "print(\"Dimensões após merge:\", ds_limpo.shape)\n",
    "display(ds_limpo.head())"
   ]
  },
  {
   "cell_type": "markdown",
   "id": "4ef3817d",
   "metadata": {},
   "source": [
    "## 3. Análise exploratória inicial\n",
    "\n",
    "Estatísticas descritivas das variáveis numéricas e observação da distribuição geral."
   ]
  },
  {
   "cell_type": "code",
   "execution_count": null,
   "id": "80823f0c",
   "metadata": {},
   "outputs": [],
   "source": [
    "# Estatísticas descritivas\n",
    "display(ds_limpo.describe().round(3))\n",
    "\n",
    "# Distribuição por continente e anos disponíveis\n",
    "print('\\nContinentes presentes:', ds_limpo['continent'].unique())\n",
    "print('Anos presentes (min, max):', ds_limpo['year'].min(), ds_limpo['year'].max())"
   ]
  },
  {
   "cell_type": "markdown",
   "id": "6cea6479",
   "metadata": {},
   "source": [
    "## 4. Funções reutilizáveis para visualizações\n",
    "\n",
    "Importação da biblioteca de gráficos"
   ]
  },
  {
   "cell_type": "code",
   "execution_count": null,
   "id": "d429cca8",
   "metadata": {},
   "outputs": [],
   "source": [
    "# Importação das bibliotecas do sistema\n",
    "import sys\n",
    "import os\n",
    "import matplotlib.pyplot as plt\n",
    "\n",
    "# Adiciona o diretório pai ao sys.path para importar libs\n",
    "sys.path.append(os.path.dirname(os.getcwd()))\n",
    "\n",
    "#Importação da biblioteca de gráficos\n",
    "import libs.graficos_lib as graficos"
   ]
  },
  {
   "cell_type": "markdown",
   "id": "532c3de4",
   "metadata": {},
   "source": [
    "## 5. Análises e visualizações\n",
    "\n",
    "A seguir apresentam-se diversas análises quantitativas e visuais, cada qual com uma breve interpretação.\n",
    "\n",
    "### Análise 1 — Tendência temporal global da expectativa de vida\n",
    "\n",
    "Calcula-se a média global de expectativa de vida por ano e plota-se a série temporal."
   ]
  },
  {
   "cell_type": "code",
   "execution_count": null,
   "id": "9a107375",
   "metadata": {},
   "outputs": [],
   "source": [
    "# Cálculo da expectativa de vida média por ano\n",
    "# Agrupamento por ano, cálculo da média da expectativa de vida, reset do índice, ordenação por ano e arredondamento para 2 casas decimais\n",
    "ds_espec_global = ds_limpo.groupby('year')['lifeExp'].mean().reset_index().sort_values('year').round({'lifeExp': 2})\n",
    "\n",
    "#Plotagem do gráfico de linhas mostrando a expectativa de vida global ao longo dos anos\n",
    "graficos.plotar_grafico_linhas(ds_espec_global, 'year', 'lifeExp', None, 'Expectativa de Vida Global', 'Ano', 'Expectativa de Vida (anos)')\n",
    "\n",
    "print('Interpretação: Observa-se um aumento consistente da expectativa de vida média global entre 1952 e 2007, refletindo avanços em saúde pública e nutrição.')"
   ]
  },
  {
   "cell_type": "markdown",
   "id": "732bf850",
   "metadata": {},
   "source": [
    "### Análise 2 — Tendência temporal global do PIB per capita (média)\n",
    "\n",
    "Média do PIB por ano e representação da série temporal."
   ]
  },
  {
   "cell_type": "code",
   "execution_count": null,
   "id": "a7e09c90",
   "metadata": {},
   "outputs": [],
   "source": [
    "# Cálculo do PIB per capita médio por ano\n",
    "ds_pib_global = ds_limpo.groupby('year')['gdpPercap'].mean().reset_index()\n",
    "\n",
    "#Plotagem do gráfico de linhas mostrando o PIB per capita global ao longo dos anos\n",
    "graficos.plotar_grafico_linhas(ds_pib_global, 'year', 'gdpPercap', None, 'PIB per Capita Global', 'Ano', 'PIB per Capita (US$)')  \n",
    "\n",
    "#Interpretação\n",
    "print('Interpretação: A média do PIB per capita apresenta crescimento.')"
   ]
  },
  {
   "cell_type": "markdown",
   "id": "34118a76",
   "metadata": {},
   "source": [
    "### Análise 3 — Evolução populacional global\n",
    "\n",
    "Soma da população por ano e sua evolução."
   ]
  },
  {
   "cell_type": "code",
   "execution_count": null,
   "id": "bb418164",
   "metadata": {},
   "outputs": [],
   "source": [
    "# Cálculo da população total por ano\n",
    "ds_pop_global = ds_limpo.groupby('year')['pop'].sum().reset_index()\n",
    "\n",
    "#Plotagem do gráfico de linhas mostrando a população global ao longo dos anos\n",
    "graficos.plotar_grafico_linhas(ds_pop_global, 'year', 'pop', None, 'População Global', 'Ano', 'População (número de pessoas)')\n",
    "\n",
    "#Interpretação\n",
    "print('Interpretação: Verifica-se um aumento substancial da população global ao longo do período.')\n"
   ]
  },
  {
   "cell_type": "markdown",
   "id": "ca9f3d48",
   "metadata": {},
   "source": [
    "### Análise 4 — Expectativa de vida por continente\n",
    "\n",
    "Comparação das médias de expectativa de vida por continente ao longo dos anos."
   ]
  },
  {
   "cell_type": "code",
   "execution_count": null,
   "id": "64b36cbf",
   "metadata": {},
   "outputs": [],
   "source": [
    "# Análise 4\n",
    "\n",
    "# Cálculo da expectativa de vida média por continente e ano\n",
    "exp_vida_continente = ds_limpo.groupby(['year','continent'])['lifeExp'].mean().reset_index()\n",
    "\n",
    "# Plotagem do gráfico de linhas mostrando a expectativa de vida média por continente ao longo dos anos\n",
    "graficos.plotar_grafico_linhas(exp_vida_continente, 'year', 'lifeExp', 'continent', 'Expectativa de Vida média por Continente (1952–2007)', 'Ano', 'Expectativa de Vida (anos)')\n",
    "\n",
    "# Interpretação\n",
    "print('Interpretação: Existem diferenças claras entre continentes; alguns apresentam crescimento mais acentuado e outros partem de patamares mais baixos, evidenciando desigualdades regionais.')"
   ]
  },
  {
   "cell_type": "markdown",
   "id": "fb462624",
   "metadata": {},
   "source": [
    "### Análise 5 — PIB per capita por continente\n",
    "\n",
    "Evolução do PID médio por continente."
   ]
  },
  {
   "cell_type": "code",
   "execution_count": null,
   "id": "0878ab3e",
   "metadata": {},
   "outputs": [],
   "source": [
    "# Análise 5\n",
    "\n",
    "# Cálculo do PIB per capita médio por continente e ano\n",
    "pib_continente = ds_limpo.groupby(['year','continent'])['gdpPercap'].mean().reset_index()\n",
    "\n",
    "# Plotagem do gráfico de linhas mostrando o PIB per capita médio por continente ao longo dos anos\n",
    "graficos.plotar_grafico_linhas(pib_continente, 'year', 'gdpPercap', 'continent', 'PIB per Capita médio por Continente (1952–2007)', 'Ano', 'PIB per Capita (US$)')\n",
    "\n",
    "# Interpretação\n",
    "print('Interpretação: Continua a haver distinções marcantes entre continentes, com alguns apresentando crescimento econômico mais robusto do que outros ao longo do período analisado.')"
   ]
  },
  {
   "cell_type": "markdown",
   "id": "0459ab4c",
   "metadata": {},
   "source": [
    "### Análise 6 — Relação entre expectativa de vida e PIB per capita em 2007\n",
    "\n",
    "Gráfico de dispersão com bolhas representando a população dos países no ano de 2007."
   ]
  },
  {
   "cell_type": "code",
   "execution_count": null,
   "id": "413d4c40",
   "metadata": {},
   "outputs": [],
   "source": [
    "# Análise 6\n",
    "\n",
    "# Filtragem dos dados para o ano de 2007\n",
    "ds_2007 = ds_limpo[ds_limpo['year']==2007].copy()\n",
    "\n",
    "# Plotagem do gráfico de dispersão de bolhas para 2007\n",
    "graficos.plotar_dispersao_bolhas(ds_2007, 'gdpPercap', 'lifeExp', size='pop', hue='continent', title='lifeExp vs gdpPercap (2007) — bolhas proporcionais à população', xlabel='PIB per Capita (US$)', ylabel='Expectativa de Vida (anos)', logx=True)\n",
    "\n",
    "# Interpretação\n",
    "print('Interpretação: Observa-se correlação positiva entre PIB per capita e expectativa de vida, com países de maior renda apresentando, em geral, maior expectativa de vida. No entanto, há exceções e variações regionais.')"
   ]
  },
  {
   "cell_type": "markdown",
   "id": "ca694dc3",
   "metadata": {},
   "source": [
    "### Análise 7 — Tendência Global das Emissões de CO₂ per Capita (1952–2007)\n",
    "\n",
    "Média de emissão global de Co2"
   ]
  },
  {
   "cell_type": "code",
   "execution_count": null,
   "id": "53255d69",
   "metadata": {},
   "outputs": [],
   "source": [
    "# Análise 7\n",
    "\n",
    "# Cálculo da média global de emissões de CO2 per capita por ano\n",
    "ds_co2_global = ds_limpo.groupby('year')['co2_per_capita'].mean().reset_index()\n",
    "\n",
    "#Plotagem do gráfico de linhas mostrando a emissão de co2 global ao longo dos anos\n",
    "graficos.plotar_grafico_linhas(ds_co2_global, 'year', 'co2_per_capita', None, 'Tendência Global das Emissões de CO₂ per Capita (1952–2007)', 'Ano', 'Emissões (t per capita)')\n",
    "\n",
    "#Interpretação\n",
    "print('Interpretação: As emissões globais de CO₂ per capita triplicaram entre 1952 e 2007, com crescimento quase contínuo.')\n"
   ]
  },
  {
   "cell_type": "markdown",
   "id": "c83b14e9",
   "metadata": {},
   "source": [
    "### Análise 8 — Relação entre PIB per Capita e Emissões de CO₂ per Capita\n",
    "\n",
    "Grafico de dispeção mostrando a relação entre o PIB e a emissão de CO2"
   ]
  },
  {
   "cell_type": "code",
   "execution_count": null,
   "id": "42fe283b",
   "metadata": {},
   "outputs": [],
   "source": [
    "# Análise 8\n",
    "\n",
    "#Plotagem do gráfico de dispersão de bolhas para relação entre PIB per Capita e Emissões de CO2 per Capita\n",
    "graficos.plotar_dispersao_bolhas(ds_limpo, 'gdpPercap', 'co2_per_capita', size='pop', hue='continent', title='Relação entre PIB per Capita e Emissões de CO₂ per Capita', xlabel='PIB per Capita (US$)', ylabel='Emissões de CO₂ (toneladas per capita)', logx=True)\n",
    "\n",
    "#Interpretação\n",
    "print('Interpretação: Há uma tendência clara de que países com maior PIB per capita também apresentem maiores emissões de CO₂ per capita, sugerindo uma relação entre desenvolvimento econômico e impacto ambiental.')"
   ]
  },
  {
   "cell_type": "markdown",
   "id": "ac29204b",
   "metadata": {},
   "source": [
    "### Análise 9 — Correlações entre variáveis (2007 e todas as observações)\n",
    "\n",
    "Cálculo das correlações entre expectativa de vida, PIP e população"
   ]
  },
  {
   "cell_type": "code",
   "execution_count": null,
   "id": "358f1869",
   "metadata": {},
   "outputs": [],
   "source": [
    "# Análise 9\n",
    "\n",
    "# Cálculo das correlações entre expectativa de vida, PIP e população\n",
    "corr_2007 = ds_2007[['lifeExp','gdpPercap','pop']].corr()\n",
    "\n",
    "# Cálculo das correlações para todas as observações\n",
    "corr_completa = ds_limpo[['lifeExp','gdpPercap','pop', 'co2_per_capita' ]].corr()\n",
    "\n",
    "\n",
    "print('Correlação (2007):\\n', corr_2007.round(3))\n",
    "print('\\nCorrelação (todas as observações):\\n', corr_completa.round(3))"
   ]
  },
  {
   "cell_type": "markdown",
   "id": "6ba2119d",
   "metadata": {},
   "source": [
    "### Análise 10 — Distribuição da população por continente ao longo do tempo\n",
    "\n",
    "Análise da evolução da distribuição populacional entre continentes.\n"
   ]
  },
  {
   "cell_type": "code",
   "execution_count": null,
   "id": "dde4a977",
   "metadata": {},
   "outputs": [],
   "source": [
    "# Análise 10\n",
    "\n",
    "# Cálculo da população total por continente e ano\n",
    "pop_continente = ds_limpo.groupby(['year', 'continent'])['pop'].sum().reset_index()\n",
    "\n",
    "# Plotagem do gráfico de linhas mostrando a população por continente ao longo dos anos\n",
    "graficos.plotar_grafico_linhas(pop_continente, 'year', 'pop', 'continent', 'População por Continente (1952–2007)', 'Ano', 'População (número de pessoas)')\n",
    "\n",
    "# Interpretação\n",
    "print('Interpretação: A Ásia domina em termos de população total, seguida pela África e Américas. Observa-se crescimento populacional em todos os continentes, com ritmos diferentes.')\n"
   ]
  },
  {
   "cell_type": "markdown",
   "id": "66ef6fec",
   "metadata": {},
   "source": [
    "### Análise 11 — Top 10 países com maior PIB per capita em 2007\n",
    "\n",
    "Identificação dos países com maior riqueza per capita no ano final do estudo.\n"
   ]
  },
  {
   "cell_type": "code",
   "execution_count": null,
   "id": "3e520b5e",
   "metadata": {},
   "outputs": [],
   "source": [
    "# Análise 11\n",
    "\n",
    "# Top 10 países com maior PIB per capita em 2007\n",
    "top10_pib_2007 = ds_2007.nlargest(10, 'gdpPercap')[['country', 'continent', 'gdpPercap', 'lifeExp', 'pop']].round(2)\n",
    "\n",
    "print(\"Top 10 países com maior PIB per capita em 2007:\")\n",
    "display(top10_pib_2007)\n",
    "\n",
    "# Gráfico de barras horizontais usando função modularizada\n",
    "graficos.plotar_barras_horizontais(top10_pib_2007, 'gdpPercap', 'country', \n",
    "                                  'Top 10 Países com Maior PIB per Capita (2007)', \n",
    "                                  'PIB per Capita (US$)')\n",
    "\n",
    "# Interpretação\n",
    "print('Interpretação: Noruega lidera com o maior PIB per capita, seguida por países europeus e asiáticos desenvolvidos. Observa-se concentração de riqueza em países desenvolvidos.')\n"
   ]
  },
  {
   "cell_type": "markdown",
   "id": "e736a971",
   "metadata": {},
   "source": [
    "### Análise 12 — Top 10 países com maior expectativa de vida em 2007\n",
    "\n",
    "Identificação dos países com melhor qualidade de vida em termos de longevidade.\n"
   ]
  },
  {
   "cell_type": "code",
   "execution_count": null,
   "id": "916d263f",
   "metadata": {},
   "outputs": [],
   "source": [
    "# Análise 12\n",
    "\n",
    "# Top 10 países com maior expectativa de vida em 2007\n",
    "top10_lifeExp_2007 = ds_2007.nlargest(10, 'lifeExp')[['country', 'continent', 'lifeExp', 'gdpPercap', 'pop']].round(2)\n",
    "\n",
    "print(\"Top 10 países com maior expectativa de vida em 2007:\")\n",
    "display(top10_lifeExp_2007)\n",
    "\n",
    "# Gráfico de barras horizontais usando função modularizada\n",
    "graficos.plotar_barras_horizontais(top10_lifeExp_2007, 'lifeExp', 'country', \n",
    "                                  'Top 10 Países com Maior Expectativa de Vida (2007)', \n",
    "                                  'Expectativa de Vida (anos)')\n",
    "\n",
    "# Interpretação\n",
    "print('Interpretação: Japão lidera com a maior expectativa de vida, seguido por países europeus e asiáticos. Países desenvolvidos dominam o ranking, refletindo melhor acesso à saúde e qualidade de vida.')\n"
   ]
  },
  {
   "cell_type": "markdown",
   "id": "7364b7b5",
   "metadata": {},
   "source": [
    "### Análise 13 — Relação entre expectativa de vida e emissões de CO₂ per capita\n",
    "\n",
    "Análise da correlação entre qualidade de vida e impacto ambiental.\n"
   ]
  },
  {
   "cell_type": "code",
   "execution_count": null,
   "id": "ba7e8559",
   "metadata": {},
   "outputs": [],
   "source": [
    "# Análise 13\n",
    "\n",
    "# Gráfico de dispersão entre expectativa de vida e emissões de CO2 per capita\n",
    "graficos.plotar_dispersao_bolhas(ds_limpo, 'co2_per_capita', 'lifeExp', size='pop', hue='continent', \n",
    "                                title='Relação entre Expectativa de Vida e Emissões de CO₂ per Capita', \n",
    "                                xlabel='Emissões de CO₂ (toneladas per capita)', \n",
    "                                ylabel='Expectativa de Vida (anos)')\n",
    "\n",
    "# Cálculo da correlação específica\n",
    "corr_lifeExp_co2 = ds_limpo[['lifeExp', 'co2_per_capita']].corr().iloc[0,1]\n",
    "print(f'Correlação entre expectativa de vida e emissões de CO2: {corr_lifeExp_co2:.3f}')\n",
    "\n",
    "# Interpretação\n",
    "print('Interpretação: Existe uma correlação positiva moderada entre expectativa de vida e emissões de CO2, sugerindo que países com maior desenvolvimento econômico têm tanto maior longevidade quanto maior impacto ambiental.')\n"
   ]
  },
  {
   "cell_type": "markdown",
   "id": "6c70bdf4",
   "metadata": {},
   "source": [
    "### Análise 14 — Evolução das emissões de CO₂ por continente\n",
    "\n",
    "Análise temporal das emissões de CO2 per capita por região geográfica.\n"
   ]
  },
  {
   "cell_type": "code",
   "execution_count": null,
   "id": "bf08ceb6",
   "metadata": {},
   "outputs": [],
   "source": [
    "# Análise 14\n",
    "\n",
    "# Cálculo das emissões médias de CO2 per capita por continente e ano\n",
    "co2_continente = ds_limpo.groupby(['year', 'continent'])['co2_per_capita'].mean().reset_index()\n",
    "\n",
    "# Plotagem do gráfico de linhas mostrando as emissões de CO2 por continente ao longo dos anos\n",
    "graficos.plotar_grafico_linhas(co2_continente, 'year', 'co2_per_capita', 'continent', \n",
    "                              'Evolução das Emissões de CO₂ per Capita por Continente (1952–2007)', \n",
    "                              'Ano', 'Emissões de CO₂ (toneladas per capita)')\n",
    "\n",
    "# Interpretação\n",
    "print('Interpretação: Europa e Américas apresentam as maiores emissões per capita, enquanto África e Ásia têm valores menores. Observa-se crescimento das emissões em todos os continentes ao longo do tempo.')\n"
   ]
  },
  {
   "cell_type": "markdown",
   "id": "42871d7b",
   "metadata": {},
   "source": [
    "### Análise 15 — Análise de outliers e países com comportamento atípico\n",
    "\n",
    "Identificação de países que se destacam por características excepcionais ou comportamentos únicos.\n"
   ]
  },
  {
   "cell_type": "code",
   "execution_count": null,
   "id": "0d1cf942",
   "metadata": {},
   "outputs": [],
   "source": [
    "# Análise 15\n",
    "\n",
    "# Identificação de outliers usando método IQR para PIB per capita em 2007\n",
    "Q1 = ds_2007['gdpPercap'].quantile(0.25)\n",
    "Q3 = ds_2007['gdpPercap'].quantile(0.75)\n",
    "IQR = Q3 - Q1\n",
    "limite_inferior = Q1 - 1.5 * IQR\n",
    "limite_superior = Q3 + 1.5 * IQR\n",
    "\n",
    "outliers_pib = ds_2007[(ds_2007['gdpPercap'] < limite_inferior) | (ds_2007['gdpPercap'] > limite_superior)]\n",
    "print(\"Países outliers em PIB per capita (2007):\")\n",
    "display(outliers_pib[['country', 'continent', 'gdpPercap', 'lifeExp']].round(2))\n",
    "\n",
    "# Identificação de países com alta expectativa de vida mas baixo PIB (eficientes)\n",
    "eficientes = ds_2007[(ds_2007['lifeExp'] > ds_2007['lifeExp'].quantile(0.8)) & \n",
    "                     (ds_2007['gdpPercap'] < ds_2007['gdpPercap'].quantile(0.5))]\n",
    "print(\"\\nPaíses com alta expectativa de vida e baixo PIB (eficientes):\")\n",
    "display(eficientes[['country', 'continent', 'lifeExp', 'gdpPercap']].round(2))\n",
    "\n",
    "# Identificação de países com baixa expectativa de vida mas alto PIB (ineficientes)\n",
    "ineficientes = ds_2007[(ds_2007['lifeExp'] < ds_2007['lifeExp'].quantile(0.2)) & \n",
    "                       (ds_2007['gdpPercap'] > ds_2007['gdpPercap'].quantile(0.5))]\n",
    "print(\"\\nPaíses com baixa expectativa de vida e alto PIB (ineficientes):\")\n",
    "display(ineficientes[['country', 'continent', 'lifeExp', 'gdpPercap']].round(2))\n",
    "\n",
    "# Interpretação\n",
    "print('\\nInterpretação: Identificamos países outliers que fogem dos padrões esperados, incluindo países muito ricos (como Luxemburgo), países eficientes em saúde (como Cuba) e casos que merecem investigação mais aprofundada.')\n"
   ]
  },
  {
   "cell_type": "markdown",
   "id": "5ffaaf10",
   "metadata": {},
   "source": [
    "## 6. Conclusão e Reflexão\n",
    "\n",
    "\n",
    "\n"
   ]
  }
 ],
 "metadata": {
  "kernelspec": {
   "display_name": "Python 3",
   "language": "python",
   "name": "python3"
  },
  "language_info": {
   "codemirror_mode": {
    "name": "ipython",
    "version": 3
   },
   "file_extension": ".py",
   "mimetype": "text/x-python",
   "name": "python",
   "nbconvert_exporter": "python",
   "pygments_lexer": "ipython3",
   "version": "3.13.0"
  }
 },
 "nbformat": 4,
 "nbformat_minor": 5
}
