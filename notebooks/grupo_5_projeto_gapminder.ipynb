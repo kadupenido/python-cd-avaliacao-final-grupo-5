{
 "cells": [
  {
   "cell_type": "code",
   "execution_count": null,
   "id": "6e1a141a",
   "metadata": {},
   "outputs": [],
   "source": [
    "# Importação das bibliotecas do sistema\n",
    "import sys\n",
    "import os\n",
    "\n",
    "# Adiciona o diretório pai ao sys.path para importar libs\n",
    "sys.path.append(os.path.dirname(os.getcwd()))\n",
    "\n",
    "# Carregamento das bibliotecas\n",
    "import pandas as pd\n",
    "import libs.graficos_lib as graficos\n",
    "\n",
    "# Carregamento do dataset bruto\n",
    "ds_bruto = pd.read_csv('../datasets/gapminder_full.csv')\n",
    "\n",
    "# Exibição das primeiras linhas do dataset\n",
    "#display(ds_bruto.head())\n",
    "\n",
    "# Exibição das informações do dataset\n",
    "#display(ds_bruto.info())"
   ]
  },
  {
   "cell_type": "code",
   "execution_count": null,
   "id": "0a85bef2",
   "metadata": {},
   "outputs": [],
   "source": [
    "# Limpeza do dataset (remoção de valores nulos e duplicados)\n",
    "ds_limpo = ds_bruto.dropna().drop_duplicates().copy()"
   ]
  },
  {
   "cell_type": "code",
   "execution_count": null,
   "id": "9a107375",
   "metadata": {},
   "outputs": [],
   "source": [
    "# Cálculo da expectativa de vida média por ano\n",
    "# Agrupamento por ano, cálculo da média da expectativa de vida, reset do índice, ordenação por ano e arredondamento para 2 casas decimais\n",
    "ds_espec_global = ds_limpo.groupby('year')['lifeExp'].mean().reset_index().sort_values('year').round({'lifeExp': 2})\n",
    "\n",
    "#Plotagem do gráfico de linhas mostrando a expectativa de vida global ao longo dos anos\n",
    "graficos.plotar_grafico_linhas(ds_espec_global, 'year', 'lifeExp', 'Expectativa de Vida Global', 'Ano', 'Expectativa de Vida (anos)')"
   ]
  },
  {
   "cell_type": "code",
   "execution_count": null,
   "id": "a7e09c90",
   "metadata": {},
   "outputs": [],
   "source": [
    "# Cálculo do PIB per capita médio por ano\n",
    "ds_pib_global = ds_limpo.groupby('year')['gdpPercap'].mean().reset_index()\n",
    "\n",
    "#Plotagem do gráfico de linhas mostrando o PIB per capita global ao longo dos anos\n",
    "graficos.plotar_grafico_linhas(ds_pib_global, 'year', 'gdpPercap', 'PIB per Capita Global', 'Ano', 'PIB per Capita (US$)')  "
   ]
  },
  {
   "cell_type": "code",
   "execution_count": null,
   "id": "bb418164",
   "metadata": {},
   "outputs": [],
   "source": [
    "# Cálculo da população total por ano\n",
    "ds_pop_global = ds_limpo.groupby('year')['pop'].sum().reset_index()\n",
    "\n",
    "#Plotagem do gráfico de linhas mostrando a população global ao longo dos anos\n",
    "graficos.plotar_grafico_linhas(ds_pop_global, 'year', 'pop', 'População Global', 'Ano', 'População (número de pessoas)')\n"
   ]
  }
 ],
 "metadata": {
  "kernelspec": {
   "display_name": "PUCMINAS",
   "language": "python",
   "name": "pucminas"
  },
  "language_info": {
   "codemirror_mode": {
    "name": "ipython",
    "version": 3
   },
   "file_extension": ".py",
   "mimetype": "text/x-python",
   "name": "python",
   "nbconvert_exporter": "python",
   "pygments_lexer": "ipython3",
   "version": "3.12.4"
  }
 },
 "nbformat": 4,
 "nbformat_minor": 5
}
